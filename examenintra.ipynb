{
 "cells": [
  {
   "cell_type": "markdown",
   "metadata": {},
   "source": [
    "# IFT870 - Examen intratrimestriel\n",
    "\n",
    "Auteur : Aurélien Vauthier (19 126 456)"
   ]
  },
  {
   "cell_type": "code",
   "metadata": {
    "pycharm": {
     "is_executing": false
    }
   },
   "source": [
    "\n",
    "# import libraries\n",
    "import numpy as np\n",
    "import pandas as pd\n",
    "import seaborn as sns\n",
    "import matplotlib.pyplot as plt\n",
    "import re\n",
    "from datetime import datetime\n",
    "from sklearn.preprocessing import OneHotEncoder\n",
    "from tqdm import tqdm\n",
    "\n",
    "# extract data\n",
    "journal = pd.read_csv(\"api_journal11-13-17.csv\", encoding=\"latin1\")\n",
    "price = pd.read_csv(\"api_price11-13-17.csv\", index_col=0)\n",
    "influence = pd.read_csv(\"estimated-article-influence-scores-2015.csv\", index_col=0)"
   ],
   "outputs": [],
   "execution_count": 33
  },
  {
   "cell_type": "markdown",
   "metadata": {},
   "source": [
    "## Question 1 : Exploration-Description\n",
    "\n",
    "*Présenter une description de chacun des attributs des 3 tables, avec des graphiques\n",
    "pour la visualisation des statistiques descriptives au besoin.*"
   ]
  },
  {
   "cell_type": "markdown",
   "metadata": {},
   "source": [
    "### Table `journal`"
   ]
  },
  {
   "cell_type": "code",
   "metadata": {},
   "source": [
    "\n",
    "# show the first values\n",
    "journal.head()"
   ],
   "outputs": [],
   "execution_count": null
  },
  {
   "cell_type": "markdown",
   "metadata": {},
   "source": [
    "Nous pouvons déjà observer les colonnes suivantes et imaginer une petite description : \n",
    "- **issn** (valeur numérique) : ([International Standard Serial Number](https://fr.wikipedia.org/wiki/International_Standard_Serial_Number)),\n",
    "il s'agit d'un numéro permettant d'identifier une série de publication de façon unique.\n",
    "- **journal_name** (valeur catégorique) : Le nom du journal\n",
    "- **pub_name** (valeur catégorique) : Le nom de l'éditeur\n",
    "- **is_hybrid** (valeur booléenne) : (D'après le site [FlourishOA](http://flourishoa.org/about#type)) Permet de savoir si le journal est\n",
    "hybride. C'est-à-dire, si le journal est à abonnement avec certains articles en accès libre.\n",
    "- **category** (valeur catégorique) : La liste des catégories de la revue scientifique.\n",
    "- **url** (valeur catégorique) : L'adresse web de la page d'acceuil du journal"
   ]
  },
  {
   "cell_type": "code",
   "metadata": {},
   "source": [
    "\n",
    "#  Compute ratio of N/A values\n",
    "(journal.isna().sum() / journal.shape[0]) * 100"
   ],
   "outputs": [],
   "execution_count": null
  },
  {
   "cell_type": "markdown",
   "metadata": {},
   "source": [
    "Nous pouvons remarquer que les colonnes `pub_name`, `category` et `url` possèdent des données manquantes. En particulier\n",
    "`category` et `url` qui ont environs 50% de données manquantes."
   ]
  },
  {
   "cell_type": "code",
   "metadata": {},
   "source": [
    "\n",
    "# Compute ratio of unique values\n",
    "print(f\"Ratio de valeurs uniques pour l'index : {len(np.unique(journal.index)) / journal.shape[0]:.0%}\")\n",
    "print(f\"Ratio de valeurs uniques pour issn : {journal['issn'].nunique() / journal.shape[0]:.0%}\")"
   ],
   "outputs": [],
   "execution_count": null
  },
  {
   "cell_type": "markdown",
   "metadata": {},
   "source": [
    "L'index et les ISSN sont bien unique.\n",
    "\n",
    "La colonne `journal_name` ne semble pas avoir de problème mis à part quelques données dupliquées."
   ]
  },
  {
   "cell_type": "code",
   "metadata": {},
   "source": [
    "\n",
    "# sort and print the 10 biggest publishers\n",
    "pub, count = np.unique(journal[\"pub_name\"].dropna(), return_counts=True)\n",
    "print(\"Nombre de revue par éditeur :\")\n",
    "for pub, count in sorted(zip(pub.tolist(), count.tolist()), key=lambda x: x[1], reverse=True)[:10]:\n",
    "    print(f\"\\t- {pub} : {count} ({count/journal.shape[0]:.2%})\")"
   ],
   "outputs": [],
   "execution_count": null
  },
  {
   "cell_type": "markdown",
   "metadata": {},
   "source": [
    "On peut voir qu'il existe de gros éditeurs, en particulier `Springer` qui publie 14.3% des revues scientifiques. "
   ]
  },
  {
   "cell_type": "code",
   "metadata": {},
   "source": [
    "\n",
    "# convert to bool values\n",
    "journal[\"is_hybrid\"] = journal[\"is_hybrid\"].astype(bool)\n",
    "print(f\"Ratio de revues hybrides : {journal['is_hybrid'].sum() / journal.shape[0]:.2%}\")"
   ],
   "outputs": [],
   "execution_count": null
  },
  {
   "cell_type": "markdown",
   "metadata": {},
   "source": [
    "On peut voir qu'il existe de gros éditeurs, en particulier `Springer` qui publie 14.3% des revues scientifiques."
   ]
  },
  {
   "cell_type": "code",
   "metadata": {},
   "source": [
    "\n",
    "journal[\"category\"][11065:11070]"
   ],
   "outputs": [],
   "execution_count": null
  },
  {
   "cell_type": "markdown",
   "metadata": {},
   "source": [
    "Comme on peut le voir sur l'exemple ci-dessus, certaines revues possèdent plusieurs catégorie qui peuvent être séprarer\n",
    "par plusieurs caractères comme `|`, `.` et `and`.\n",
    "\n",
    "Finalement, pour la colonne `url`, il y a une grande partie de données manquantes mais "
   ]
  },
  {
   "cell_type": "markdown",
   "metadata": {},
   "source": [
    "### Table `price`"
   ]
  },
  {
   "cell_type": "code",
   "metadata": {},
   "source": [
    "\n",
    "# show the first values\n",
    "price.head()"
   ],
   "outputs": [],
   "execution_count": null
  },
  {
   "cell_type": "markdown",
   "metadata": {},
   "source": [
    "Nous pouvons déjà observer les colonnes suivantes et imaginer une petite description :\n",
    "- **price** (valeur continue) : le prix de l'ACP (Article Publication Charge)\n",
    "- **date_stamp** (valeur temporelle) : horodatage représentant la date de création de l'entrée.\n",
    "- **journal_id** (valeur catégorique) : il s'agit de l'ISSN du journal\n",
    "- **influence_id** (valeur catégorique) : on pourrait supposer qu'il s'agit d'un lien vers les lignes de la table\n",
    "`influence` mais la majorité des id situés dans cette colonne sont supérieurs au nombre de lignes que possède la table\n",
    "`influence` ce qui consititue alors des valeurs abérantes.\n",
    "- **url** (valeur catégorique) : L'adresse web de la revue vers la page d'informations pour les auteurs.\n",
    "- **license** (valeur catégorique) : Valeur numérique représentant une lisence (nous n'avons pas d'information sur la\n",
    "correspondance entre les valeurs numériques et les différentes lisences qui existent."
   ]
  },
  {
   "cell_type": "code",
   "metadata": {},
   "source": [
    "\n",
    "#  Compute ratio of N/A values\n",
    "(price.isna().sum() / price.shape[0]) * 100"
   ],
   "outputs": [],
   "execution_count": null
  },
  {
   "cell_type": "markdown",
   "metadata": {},
   "source": [
    "Nous pouvons remarquer que les colonnes `influence_id`, `url` et `license` possèdent presque uniquement des données\n",
    "manquantes."
   ]
  },
  {
   "cell_type": "code",
   "metadata": {},
   "source": [
    "\n",
    "print(\"Statistiques de la colonne price:\")\n",
    "print(f\"- min : {price['price'].min():.0f}\")\n",
    "print(f\"- max : {price['price'].max():.0f}\")\n",
    "print(f\"- moyenne : {price['price'].mean():.3f}\")\n",
    "print(f\"- varience : {price['price'].var():.3f}\")\n",
    "sns.distplot(price[\"price\"])"
   ],
   "outputs": [],
   "execution_count": null
  },
  {
   "cell_type": "markdown",
   "metadata": {},
   "source": [
    "On remarque sur le graphique 4 groupes de prix des journaux. Un premier à 0, un deuxième entre 100 et 2900 environ, un\n",
    "troisième autour de la valeur 3000 et finalement un dernier groupe au-dessus de 3100."
   ]
  },
  {
   "cell_type": "code",
   "metadata": {},
   "source": [
    "\n",
    "price[\"date_stamp\"] = pd.to_datetime(price[\"date_stamp\"], format=\"%Y-%m-%d\")\n",
    "groupedPrice = price[\"date_stamp\"].groupby(price[\"date_stamp\"].dt.year, sort=False)\n",
    "years, years_count = [], []\n",
    "for year in groupedPrice:\n",
    "    years.append(year[0])\n",
    "    years_count.append(year[1].shape[0])\n",
    "\n",
    "plt.hist(years, bins=len(years), weights=years_count)\n",
    "plt.show()"
   ],
   "outputs": [],
   "execution_count": null
  },
  {
   "cell_type": "markdown",
   "metadata": {},
   "source": [
    "On note sur le graphique que la plupart des données ont été ajouté en 2016 et 2017, une autre partie fut ajouté en 2012\n",
    "et 2013. La majorité des données est donc assez récente."
   ]
  },
  {
   "cell_type": "code",
   "metadata": {},
   "source": [
    "def multicolumn_duplicate_ratio(df, columns):\n",
    "    flatten_array = df[columns].values.ravel('K')\n",
    "    n_unique = len(pd.unique(flatten_array))\n",
    "    return n_unique / df.shape[0]\n",
    "\n",
    "\n",
    "# Compute ratio of unique values\n",
    "print(f\"Ratio de valeurs uniques pour journal_id : {price['journal_id'].nunique() / price.shape[0]:.0%}\")\n",
    "print(f\"Ratio de valeurs uniques pour (journal_id, date_stamp) : {multicolumn_duplicate_ratio(price, ['date_stamp', 'journal_id']):.0%}\")"
   ],
   "outputs": [],
   "execution_count": null
  },
  {
   "cell_type": "markdown",
   "metadata": {},
   "source": [
    "Contrairement à la table `journal` il existe plusieurs duplicatas des ISSN, en effet, certaines revues scientifiques\n",
    "ont eu des mise à jours de leurs informations."
   ]
  },
  {
   "cell_type": "code",
   "metadata": {},
   "source": [
    "\n",
    "# show ratio of incoherent values\n",
    "print(f\"Ratio de valeurs incohérentes pour influence_id : {1 - (price['influence_id'] <= influence.index[-1]).sum() / price.shape[0]:.2%}\")"
   ],
   "outputs": [],
   "execution_count": null
  },
  {
   "cell_type": "markdown",
   "metadata": {},
   "source": [
    "La quasi-totalité des valeurs de `influence_id` sont soit manquantes soit ont une valeur supérieur à la valeur maximal\n",
    "des id de la table `influence`. Cette colonne ne semble donc pas être utile."
   ]
  },
  {
   "cell_type": "code",
   "metadata": {},
   "source": [
    "\n",
    "print(\"Valeur(s) abérente(s) pour la colonne url :\")\n",
    "price[~price[\"url\"].str.startswith(\"http\", na=True)][\"url\"]"
   ],
   "outputs": [],
   "execution_count": null
  },
  {
   "cell_type": "markdown",
   "metadata": {},
   "source": [
    "Bien qu'on ne retrouve qu'une seule valeur abérante, la majorité des valeurs reste manquente. Cela nuit donc à l'interêt\n",
    "de cette colonne."
   ]
  },
  {
   "cell_type": "code",
   "metadata": {
    "pycharm": {
     "is_executing": false
    }
   },
   "source": [
    "\n",
    "licenses, licenses_count = np.unique(price[\"license\"].dropna(), return_counts=True)\n",
    "plt.hist(licenses, bins=len(licenses), weights=licenses_count)\n",
    "plt.show()"
   ],
   "outputs": [
    {
     "data": {
      "text/plain": "<Figure size 432x288 with 1 Axes>",
      "image/png": "[encoded data removed]"
     },
     "metadata": {
      "needs_background": "light"
     },
     "output_type": "display_data"
    }
   ],
   "execution_count": 35
  },
  {
   "cell_type": "markdown",
   "metadata": {},
   "source": [
    "## Question 2 : Prétraitement-Représentation\n",
    "\n",
    "*Effectuer un prétraitement des données pour supprimer les duplications et corriger les\n",
    "incohérences s’il y en a.*"
   ]
  },
  {
   "cell_type": "code",
   "metadata": {},
   "source": [
    "journal[\"is_hybrid\"] = journal[\"is_hybrid\"].astype(bool)\n"
   ],
   "outputs": [],
   "execution_count": null
  },
  {
   "cell_type": "markdown",
   "metadata": {},
   "source": [
    "*Y a t il une corrélation entre les catégories de journaux (attribut « category ») et les\n",
    "coûts de publication (attribut « price ») ? Justifier la réponse.*"
   ]
  },
  {
   "cell_type": "code",
   "metadata": {},
   "source": [],
   "outputs": [],
   "execution_count": null
  },
  {
   "cell_type": "markdown",
   "metadata": {},
   "source": [
    "*Construire un modèle pour prédire les valeurs de catégorie de journaux manquantes de\n",
    "la façon la plus précise possible (cela inclut la sélection d’attributs informatifs, le\n",
    "choix et le paramétrage d’un modèle de classification, le calcul du score du modèle,\n",
    "l’application du modèle pour prédire les catégories manquantes). Justifier les choix\n",
    "effectués.*"
   ]
  },
  {
   "cell_type": "code",
   "metadata": {},
   "source": [],
   "outputs": [],
   "execution_count": null
  },
  {
   "cell_type": "markdown",
   "metadata": {},
   "source": [
    "## Question 3 : Régression-Clustering\n",
    "\n",
    "*Supprimer tous les attributs ayant plus de 50% de données manquantes.*"
   ]
  },
  {
   "cell_type": "code",
   "metadata": {},
   "source": [],
   "outputs": [],
   "execution_count": null
  },
  {
   "cell_type": "markdown",
   "metadata": {},
   "source": [
    "*Construire un modèle pour prédire le coût actuel de publication (attribut « price ») à\n",
    "partir des autres attributs (cela inclut la sélection d’attributs informatifs, le choix et le\n",
    "paramétrage d’un modèle de régression, le calcul du score du modèle, l’application du\n",
    "modèle pour prédire les coûts). Justifier les choix effectués.\n",
    "Lister les 10 revues qui s’écartent le plus (en + ou -) de la valeur prédite.*"
   ]
  },
  {
   "cell_type": "code",
   "metadata": {},
   "source": [],
   "outputs": [],
   "execution_count": null
  },
  {
   "cell_type": "markdown",
   "metadata": {},
   "source": [
    "*Construire un modèle pour grouper les revues suivant le coût actuel de publication\n",
    "(attribut « price ») et le score d’influence (attribut « proj_ai ») (cela inclut la\n",
    "détermination du nombre de clusters, le choix et le paramétrage d’un modèle de\n",
    "clustering, l’application du modèle pour trouver les clusters). Justifier les choix\n",
    "effectués.*"
   ]
  },
  {
   "cell_type": "code",
   "metadata": {},
   "source": [],
   "outputs": [],
   "execution_count": null
  },
  {
   "cell_type": "markdown",
   "metadata": {},
   "source": [
    "*Présenter des statistiques descriptives des clusters obtenus, et lister les revues du\n",
    "meilleur cluster en termes de rapport moyen : score d’influence / coût de publication.*"
   ]
  },
  {
   "cell_type": "code",
   "metadata": {},
   "source": [
    "\n",
    "\n"
   ],
   "outputs": [],
   "execution_count": null
  }
 ],
 "metadata": {
  "anaconda-cloud": {},
  "kernelspec": {
   "display_name": "Python 3",
   "language": "python",
   "name": "python3"
  },
  "language_info": {
   "codemirror_mode": {
    "name": "ipython",
    "version": 3
   },
   "file_extension": ".py",
   "mimetype": "text/x-python",
   "name": "python",
   "nbconvert_exporter": "python",
   "pygments_lexer": "ipython3",
   "version": "3.6.1"
  },
  "pycharm": {
   "stem_cell": {
    "cell_type": "raw",
    "source": [],
    "metadata": {
     "collapsed": false
    }
   }
  }
 },
 "nbformat": 4,
 "nbformat_minor": 1
}