{
 "cells": [
  {
   "cell_type": "markdown",
   "metadata": {},
   "source": [
    "# IFT870 - Examen intratrimestriel\n",
    "\n",
    "Auteur : Aurélien Vauthier (19 126 456)"
   ]
  },
  {
   "cell_type": "code",
   "execution_count": 324,
   "metadata": {},
   "outputs": [],
   "source": [
    "# import libraries\n",
    "import numpy as np\n",
    "import pandas as pd\n",
    "import seaborn as sns\n",
    "import matplotlib.pyplot as plt\n",
    "\n",
    "from sklearn.preprocessing import StandardScaler\n",
    "from sklearn.ensemble import RandomForestClassifier, RandomForestRegressor\n",
    "from sklearn.multioutput import MultiOutputClassifier\n",
    "from sklearn.model_selection import GridSearchCV, train_test_split\n",
    "from sklearn.cluster import KMeans, AgglomerativeClustering, DBSCAN\n",
    "from sklearn.mixture import GaussianMixture\n",
    "from difflib import SequenceMatcher\n",
    "from tqdm import tqdm\n",
    "\n",
    "# extract data\n",
    "journal = pd.read_csv(\"api_journal11-13-17.csv\", encoding=\"latin1\")\n",
    "price = pd.read_csv(\"api_price11-13-17.csv\", index_col=0)\n",
    "influence = pd.read_csv(\"estimated-article-influence-scores-2015.csv\", index_col=0)"
   ]
  },
  {
   "cell_type": "markdown",
   "metadata": {},
   "source": [
    "## Question 1 : Exploration-Description\n",
    "\n",
    "*Présenter une description de chacun des attributs des 3 tables, avec des graphiques\n",
    "pour la visualisation des statistiques descriptives au besoin.*"
   ]
  },
  {
   "cell_type": "markdown",
   "metadata": {},
   "source": [
    "### Table `journal`"
   ]
  },
  {
   "cell_type": "code",
   "execution_count": 325,
   "metadata": {},
   "outputs": [
    {
     "data": {
      "text/html": [
       "<div>\n",
       "<style scoped>\n",
       "    .dataframe tbody tr th:only-of-type {\n",
       "        vertical-align: middle;\n",
       "    }\n",
       "\n",
       "    .dataframe tbody tr th {\n",
       "        vertical-align: top;\n",
       "    }\n",
       "\n",
       "    .dataframe thead th {\n",
       "        text-align: right;\n",
       "    }\n",
       "</style>\n",
       "<table border=\"1\" class=\"dataframe\">\n",
       "  <thead>\n",
       "    <tr style=\"text-align: right;\">\n",
       "      <th></th>\n",
       "      <th>issn</th>\n",
       "      <th>journal_name</th>\n",
       "      <th>pub_name</th>\n",
       "      <th>is_hybrid</th>\n",
       "      <th>category</th>\n",
       "      <th>url</th>\n",
       "    </tr>\n",
       "  </thead>\n",
       "  <tbody>\n",
       "    <tr>\n",
       "      <th>0</th>\n",
       "      <td>0001-527X</td>\n",
       "      <td>Acta Biochimica Polonica</td>\n",
       "      <td>ACTA BIOCHIMICA POLONICA</td>\n",
       "      <td>0</td>\n",
       "      <td>MOLECULAR AND CELL BIOLOGY</td>\n",
       "      <td>NaN</td>\n",
       "    </tr>\n",
       "    <tr>\n",
       "      <th>1</th>\n",
       "      <td>0002-0397</td>\n",
       "      <td>Africa Spectrum</td>\n",
       "      <td>NaN</td>\n",
       "      <td>0</td>\n",
       "      <td>NaN</td>\n",
       "      <td>NaN</td>\n",
       "    </tr>\n",
       "    <tr>\n",
       "      <th>2</th>\n",
       "      <td>0003-0090</td>\n",
       "      <td>Bulletin of the American Museum of Natural His...</td>\n",
       "      <td>AMER MUSEUM NATURAL HISTORY</td>\n",
       "      <td>0</td>\n",
       "      <td>ECOLOGY AND EVOLUTION</td>\n",
       "      <td>NaN</td>\n",
       "    </tr>\n",
       "    <tr>\n",
       "      <th>3</th>\n",
       "      <td>0003-5521</td>\n",
       "      <td>L'anthropologie</td>\n",
       "      <td>Elsevier</td>\n",
       "      <td>1</td>\n",
       "      <td>Anthropology</td>\n",
       "      <td>NaN</td>\n",
       "    </tr>\n",
       "    <tr>\n",
       "      <th>4</th>\n",
       "      <td>0004-1254</td>\n",
       "      <td>Arhiv Za Higijenu Rada I Toksikologiju-Archive...</td>\n",
       "      <td>NaN</td>\n",
       "      <td>0</td>\n",
       "      <td>NaN</td>\n",
       "      <td>NaN</td>\n",
       "    </tr>\n",
       "  </tbody>\n",
       "</table>\n",
       "</div>"
      ],
      "text/plain": [
       "        issn                                       journal_name  \\\n",
       "0  0001-527X                           Acta Biochimica Polonica   \n",
       "1  0002-0397                                    Africa Spectrum   \n",
       "2  0003-0090  Bulletin of the American Museum of Natural His...   \n",
       "3  0003-5521                                    L'anthropologie   \n",
       "4  0004-1254  Arhiv Za Higijenu Rada I Toksikologiju-Archive...   \n",
       "\n",
       "                      pub_name  is_hybrid                    category  url  \n",
       "0     ACTA BIOCHIMICA POLONICA          0  MOLECULAR AND CELL BIOLOGY  NaN  \n",
       "1                          NaN          0                         NaN  NaN  \n",
       "2  AMER MUSEUM NATURAL HISTORY          0       ECOLOGY AND EVOLUTION  NaN  \n",
       "3                     Elsevier          1                Anthropology  NaN  \n",
       "4                          NaN          0                         NaN  NaN  "
      ]
     },
     "execution_count": 325,
     "metadata": {},
     "output_type": "execute_result"
    }
   ],
   "source": [
    "# show the first values\n",
    "journal.head()"
   ]
  },
  {
   "cell_type": "markdown",
   "metadata": {},
   "source": [
    "Nous pouvons déjà observer les colonnes suivantes et imaginer une petite description : \n",
    "- **issn** (valeur numérique) : ([International Standard Serial Number](https://fr.wikipedia.org/wiki/International_Standard_Serial_Number)),\n",
    "il s'agit d'un numéro permettant d'identifier une série de publication de façon unique.\n",
    "- **journal_name** (valeur catégorique) : Le nom du journal\n",
    "- **pub_name** (valeur catégorique) : Le nom de l'éditeur\n",
    "- **is_hybrid** (valeur booléenne) : (D'après le site [FlourishOA](http://flourishoa.org/about#type)) Permet de savoir\n",
    "si le journal est hybride. C'est-à-dire, si le journal est à abonnement avec certains articles en accès libre.\n",
    "- **category** (valeur catégorique) : La liste des catégories de la revue scientifique.\n",
    "- **url** (valeur catégorique) : L'adresse web de la page d'acceuil du journal"
   ]
  },
  {
   "cell_type": "code",
   "execution_count": 326,
   "metadata": {},
   "outputs": [
    {
     "data": {
      "text/plain": [
       "issn             0.000000\n",
       "journal_name     0.000000\n",
       "pub_name        11.179557\n",
       "is_hybrid        0.000000\n",
       "category        48.148148\n",
       "url             51.623698\n",
       "dtype: float64"
      ]
     },
     "execution_count": 326,
     "metadata": {},
     "output_type": "execute_result"
    }
   ],
   "source": [
    "#  Compute ratio of N/A values\n",
    "(journal.isna().sum() / journal.shape[0]) * 100"
   ]
  },
  {
   "cell_type": "markdown",
   "metadata": {},
   "source": [
    "Nous pouvons remarquer que les colonnes `pub_name`, `category` et `url` possèdent des données manquantes. En particulier\n",
    "`category` et `url` qui ont environs 50% de données manquantes."
   ]
  },
  {
   "cell_type": "code",
   "execution_count": 327,
   "metadata": {},
   "outputs": [
    {
     "name": "stdout",
     "output_type": "stream",
     "text": [
      "Ratio de valeurs uniques pour l'index : 100%\n",
      "Ratio de valeurs uniques pour issn : 100%\n"
     ]
    }
   ],
   "source": [
    "# Compute ratio of unique values\n",
    "print(f\"Ratio de valeurs uniques pour l'index : {len(np.unique(journal.index)) / journal.shape[0]:.0%}\")\n",
    "print(f\"Ratio de valeurs uniques pour issn : {journal['issn'].nunique() / journal.shape[0]:.0%}\")"
   ]
  },
  {
   "cell_type": "markdown",
   "metadata": {},
   "source": [
    "L'index et les ISSN sont bien uniques.\n",
    "\n",
    "La colonne `journal_name` ne semble pas avoir de problème mis à part quelques données dupliquées."
   ]
  },
  {
   "cell_type": "code",
   "execution_count": 328,
   "metadata": {},
   "outputs": [
    {
     "name": "stdout",
     "output_type": "stream",
     "text": [
      "Nombre de revue par éditeur :\n",
      "\t- Springer : 1886 (14.34%)\n",
      "\t- Hindawi Publishing Corporation : 487 (3.70%)\n",
      "\t- Elsevier : 294 (2.24%)\n",
      "\t- De Gruyter Open : 266 (2.02%)\n",
      "\t- BioInfo Publications : 142 (1.08%)\n",
      "\t- BioMed Central : 137 (1.04%)\n",
      "\t- Self Owned - Non-Profit Society : 127 (0.97%)\n",
      "\t- American Scientific Publishers : 119 (0.91%)\n",
      "\t- Biomed Central : 114 (0.87%)\n",
      "\t- Wiley : 104 (0.79%)\n"
     ]
    }
   ],
   "source": [
    "# sort and print the 10 biggest publishers\n",
    "pub, count = np.unique(journal[\"pub_name\"].dropna(), return_counts=True)\n",
    "print(\"Nombre de revue par éditeur :\")\n",
    "for pub, count in sorted(zip(pub.tolist(), count.tolist()), key=lambda x: x[1], reverse=True)[:10]:\n",
    "    print(f\"\\t- {pub} : {count} ({count/journal.shape[0]:.2%})\")"
   ]
  },
  {
   "cell_type": "markdown",
   "metadata": {},
   "source": [
    "On peut voir qu'il existe de gros éditeurs, en particulier `Springer` qui publie 14.3% des revues scientifiques. "
   ]
  },
  {
   "cell_type": "code",
   "execution_count": 329,
   "metadata": {},
   "outputs": [
    {
     "name": "stdout",
     "output_type": "stream",
     "text": [
      "Ratio de revues hybrides : 13.19%\n"
     ]
    }
   ],
   "source": [
    "# convert to bool values\n",
    "journal[\"is_hybrid\"] = journal[\"is_hybrid\"].astype(bool)\n",
    "print(f\"Ratio de revues hybrides : {journal['is_hybrid'].sum() / journal.shape[0]:.2%}\")"
   ]
  },
  {
   "cell_type": "code",
   "execution_count": 331,
   "metadata": {},
   "outputs": [
    {
     "data": {
      "text/plain": [
       "11065    Medicine | Philosophy. Psychology. Religion\n",
       "11066               Philosophy. Psychology. Religion\n",
       "11067                       Music and books on Music\n",
       "11068                                       Medicine\n",
       "11069                        Language and Literature\n",
       "Name: category, dtype: object"
      ]
     },
     "execution_count": 331,
     "metadata": {},
     "output_type": "execute_result"
    }
   ],
   "source": [
    "journal[\"category\"][11065:11070]"
   ]
  },
  {
   "cell_type": "code",
   "execution_count": 347,
   "metadata": {},
   "outputs": [
    {
     "data": {
      "image/png": "[encoded data removed]",
      "text/plain": [
       "<Figure size 432x288 with 1 Axes>"
      ]
     },
     "metadata": {
      "needs_background": "light"
     },
     "output_type": "display_data"
    }
   ],
   "source": [
    "# show stats about categories\n",
    "categories, cat_counts = np.unique(journal[\"category\"].dropna(), return_counts=True)\n",
    "categories = np.delete(categories, np.where(cat_counts < 20))\n",
    "cat_counts = np.delete(cat_counts, np.where(cat_counts < 20))\n",
    "sns.barplot(x=categories, y=cat_counts)\n",
    "plt.xticks(rotation=40, ha=\"right\")\n",
    "plt.show()"
   ]
  },
  {
   "cell_type": "markdown",
   "metadata": {},
   "source": [
    "Comme on peut le voir sur l'exemple ci-dessus, certaines revues possèdent plusieurs catégorie qui peuvent être séprarer\n",
    "par plusieurs caractères comme `|`, `.` et `and`.\n",
    "\n",
    "Finalement, pour la colonne `url`, il y a une grande partie de données manquantes mais "
   ]
  },
  {
   "cell_type": "markdown",
   "metadata": {},
   "source": [
    "### Table `price`"
   ]
  },
  {
   "cell_type": "code",
   "execution_count": null,
   "metadata": {},
   "outputs": [],
   "source": [
    "# show the first values\n",
    "price.head()"
   ]
  },
  {
   "cell_type": "markdown",
   "metadata": {},
   "source": [
    "Nous pouvons déjà observer les colonnes suivantes et imaginer une petite description :\n",
    "- **price** (valeur continue) : Le prix de l'ACP (Article Publication Charge)\n",
    "- **date_stamp** (valeur temporelle) : Horodatage représentant la date de création de l'entrée.\n",
    "- **journal_id** (valeur catégorique) : Il s'agit de l'ISSN du journal\n",
    "- **influence_id** (valeur catégorique) : On pourrait supposer qu'il s'agit d'un lien vers les lignes de la table\n",
    "`influence` mais la majorité des id situés dans cette colonne sont supérieurs au nombre de lignes que possède la table\n",
    "`influence` ce qui consititue alors des valeurs abérantes.\n",
    "- **url** (valeur catégorique) : L'adresse web de la revue vers la page d'informations pour les auteurs.\n",
    "- **license** (valeur catégorique) : Valeur numérique représentant une lisence (nous n'avons pas d'information sur la\n",
    "correspondance entre les valeurs numériques et les différentes lisences qui existent."
   ]
  },
  {
   "cell_type": "code",
   "execution_count": null,
   "metadata": {},
   "outputs": [],
   "source": [
    "#  Compute ratio of N/A values\n",
    "(price.isna().sum() / price.shape[0]) * 100"
   ]
  },
  {
   "cell_type": "markdown",
   "metadata": {},
   "source": [
    "Nous pouvons remarquer que les colonnes `influence_id`, `url` et `license` possèdent presque uniquement des données\n",
    "manquantes."
   ]
  },
  {
   "cell_type": "code",
   "execution_count": null,
   "metadata": {},
   "outputs": [],
   "source": [
    "def show_continuous_col_stats(df, column):\n",
    "    print(f\"Statistiques de la colonne {column} :\")\n",
    "    print(f\"- min : {df[column].min():.2f}\")\n",
    "    print(f\"- max : {df[column].max():.2f}\")\n",
    "    print(f\"- moyenne : {df[column].mean():.2f}\")\n",
    "    print(f\"- varience : {df[column].var():.2f}\")\n",
    "    print(f\"- mode : {df[column].mode()[0]:.2f}\")\n",
    "    sns.distplot(df[column].dropna())\n",
    "\n",
    "show_continuous_col_stats(price, \"price\")"
   ]
  },
  {
   "cell_type": "markdown",
   "metadata": {},
   "source": [
    "On remarque sur le graphique 4 groupes de prix des journaux. Un premier à 0, un deuxième entre 100 et 2900 environ, un\n",
    "troisième autour de la valeur 3000 et finalement un dernier groupe au-dessus de 3100."
   ]
  },
  {
   "cell_type": "code",
   "execution_count": null,
   "metadata": {},
   "outputs": [],
   "source": [
    "price[\"date_stamp\"] = pd.to_datetime(price[\"date_stamp\"], format=\"%Y-%m-%d\")\n",
    "groupedPrice = price[\"date_stamp\"].groupby(price[\"date_stamp\"].dt.year, sort=False)\n",
    "years, years_count = [], []\n",
    "for year in groupedPrice:\n",
    "    years.append(year[0])\n",
    "    years_count.append(year[1].shape[0])\n",
    "\n",
    "plt.hist(years, bins=len(years), weights=years_count)\n",
    "plt.show()"
   ]
  },
  {
   "cell_type": "markdown",
   "metadata": {},
   "source": [
    "On note sur le graphique que la plupart des données ont été ajouté en 2016 et 2017, une autre partie fut ajouté en 2012\n",
    "et 2013. La majorité des données est donc assez récente."
   ]
  },
  {
   "cell_type": "code",
   "execution_count": null,
   "metadata": {},
   "outputs": [],
   "source": [
    "def multicolumn_duplicate_ratio(df, columns):\n",
    "    flatten_array = df[columns].values.ravel('K')\n",
    "    n_unique = len(pd.unique(flatten_array))\n",
    "    return n_unique / df.shape[0]\n",
    "\n",
    "\n",
    "# Compute ratio of unique values\n",
    "print(f\"Ratio de valeurs uniques pour journal_id : {price['journal_id'].nunique() / price.shape[0]:.0%}\")\n",
    "print(f\"Ratio de valeurs uniques pour (journal_id, date_stamp) : {multicolumn_duplicate_ratio(price, ['date_stamp', 'journal_id']):.0%}\")"
   ]
  },
  {
   "cell_type": "markdown",
   "metadata": {},
   "source": [
    "Contrairement à la table `journal` il existe plusieurs duplicatas des ISSN, en effet, certaines revues scientifiques\n",
    "ont eu des mise à jours de leurs informations."
   ]
  },
  {
   "cell_type": "code",
   "execution_count": null,
   "metadata": {},
   "outputs": [],
   "source": [
    "# show ratio of incoherent values\n",
    "print(f\"Ratio de valeurs incohérentes pour influence_id : {1 - (price['influence_id'] <= influence.index[-1]).sum() / price.shape[0]:.2%}\")"
   ]
  },
  {
   "cell_type": "markdown",
   "metadata": {},
   "source": [
    "La quasi-totalité des valeurs de `influence_id` sont soit manquantes soit ont une valeur supérieur à la valeur maximal\n",
    "des id de la table `influence`. Cette colonne ne semble donc pas être utile."
   ]
  },
  {
   "cell_type": "code",
   "execution_count": null,
   "metadata": {},
   "outputs": [],
   "source": [
    "print(\"Valeur(s) abérente(s) pour la colonne url :\")\n",
    "incoherent_influence_url = price[~price[\"url\"].str.startswith(\"http\", na=True)]\n",
    "for index, row in incoherent_influence_url.iterrows():\n",
    "    print(f\"{index} : {row['url']}\")\n",
    "\n",
    "# remove incoherent values\n",
    "for index in incoherent_influence_url.index:\n",
    "    price.at[index, \"url\"] = np.NaN"
   ]
  },
  {
   "cell_type": "markdown",
   "metadata": {},
   "source": [
    "Bien qu'on ne retrouve qu'une seule valeur abérante, la majorité des valeurs reste manquente. Cela nuit donc fortement à\n",
    "l'interêt de cette colonne."
   ]
  },
  {
   "cell_type": "code",
   "execution_count": null,
   "metadata": {},
   "outputs": [],
   "source": [
    "licenses, licenses_count = np.unique(price[\"license\"].dropna(), return_counts=True)\n",
    "plt.hist(licenses, bins=len(licenses), weights=licenses_count)\n",
    "plt.show()"
   ]
  },
  {
   "cell_type": "markdown",
   "metadata": {},
   "source": [
    "Comme nous pouvons le voir sur l'histogramme, la lisence 2 est majoritairement utilisée, on retrouve ensuite les\n",
    "lisences 10, 4 et 6. Cependant, ne pouvant faire l'equivalence entre ces numéros et le nom des licenses (ou groupes de\n",
    "lisences), les informations de cette colonne ne sont pas pertinentes. "
   ]
  },
  {
   "cell_type": "markdown",
   "metadata": {},
   "source": [
    "### Table `influence`"
   ]
  },
  {
   "cell_type": "code",
   "execution_count": null,
   "metadata": {},
   "outputs": [],
   "source": [
    "# show the first values\n",
    "influence.head()"
   ]
  },
  {
   "cell_type": "markdown",
   "metadata": {},
   "source": [
    "Nous pouvons déjà observer les colonnes suivantes et imaginer une petite description :\n",
    "- **journal_name** (valeur catégorique) : Le nom du journal.\n",
    "- **issn** (valeur catégorique) : L'ISSN du journal.\n",
    "- **citation_count_sum** (valeur continue) : Le nombre de citation du journal.\n",
    "- **paper_count_sum** (valeur continue) : Le nombre d'articles scientifiques du journal.\n",
    "- **avg_cites_per_paper** (valeur continue) : La moyenne du nombre de citation par article du journal.\n",
    "- **proj_ai** (valeur continue) : Le score d'influence associé à la moyenne des citations.\n",
    "- **proj_ai_year** (valeur temporelle) : La date associé au calcul du score d'influence."
   ]
  },
  {
   "cell_type": "code",
   "execution_count": null,
   "metadata": {},
   "outputs": [],
   "source": [
    "#  Compute ratio of N/A values\n",
    "(influence.isna().sum() / influence.shape[0]) * 100"
   ]
  },
  {
   "cell_type": "markdown",
   "metadata": {},
   "source": [
    "Il n'y a presque aucune données manquantes dans la table `influence`. De plus, les quatres seules colonnes en possédant\n",
    "un peu, `citation_count_sum`, `paper_count_sum`, `avg_cites_per_paper` et `proj_ai`, ont exactement le même nombre de\n",
    "données manquantes : 0.36%.\n",
    "\n",
    "La colonne `journal_name` ne semble pas avoir de problème mis à part quelques données dupliquées."
   ]
  },
  {
   "cell_type": "code",
   "execution_count": null,
   "metadata": {},
   "outputs": [],
   "source": [
    "# Compute ratio of unique values\n",
    "print(f\"Ratio de valeurs uniques pour l'index : {len(np.unique(influence.index)) / influence.shape[0]:.0%}\")\n",
    "print(f\"Ratio de valeurs uniques pour issn : {influence['issn'].nunique() / influence.shape[0]:.0%}\")"
   ]
  },
  {
   "cell_type": "markdown",
   "metadata": {},
   "source": [
    "L'index et les ISSN sont bien uniques."
   ]
  },
  {
   "cell_type": "code",
   "execution_count": null,
   "metadata": {},
   "outputs": [],
   "source": [
    "show_continuous_col_stats(influence, \"citation_count_sum\")"
   ]
  },
  {
   "cell_type": "markdown",
   "metadata": {},
   "source": [
    "On peut noter un très grande dispertion des valeurs du nombre de citations qui peut faire pense à une distribution de\n",
    "Poisson. De nombreux journaux n'ont pas beaucoup de citation (environs 636) alors que certains journaux se dispersent\n",
    "entre des valeurs de 10 000 à 430 000 citations."
   ]
  },
  {
   "cell_type": "code",
   "execution_count": null,
   "metadata": {},
   "outputs": [],
   "source": [
    "show_continuous_col_stats(influence, \"avg_cites_per_paper\")"
   ]
  },
  {
   "cell_type": "markdown",
   "metadata": {},
   "source": [
    "Là encore la similarité avec la loi de Poisson est visible mais cette fois-ci la dispersion des données est bien moins\n",
    "présente. On note tout de même un pic autour de la valeur 1.75 et des valeurs allant jusqu'à 27. "
   ]
  },
  {
   "cell_type": "code",
   "execution_count": null,
   "metadata": {},
   "outputs": [],
   "source": [
    "show_continuous_col_stats(influence, \"proj_ai\")"
   ]
  },
  {
   "cell_type": "markdown",
   "metadata": {},
   "source": [
    "Cette colonne étant le résultat d'un rapport entre les deux dernières colonnes, il n'est pas très surprenant d'observer\n",
    "une dernière fois la Loi de Poisson avec un mode autour de la valeur 0.4 et une dispertion jusqu'à 11."
   ]
  },
  {
   "cell_type": "code",
   "execution_count": null,
   "metadata": {},
   "outputs": [],
   "source": [
    "print(\"Liste des valeurs uniques de proj_ai_year :\")\n",
    "for year in influence[\"proj_ai_year\"].unique():\n",
    "    print(f\"\\t- {year}\")"
   ]
  },
  {
   "cell_type": "markdown",
   "metadata": {},
   "source": [
    "Surprenemment, nous pouvons noter que seule l'année 2015 est présente dans cette colonne."
   ]
  },
  {
   "cell_type": "markdown",
   "metadata": {},
   "source": [
    "## Question 2 : Prétraitement-Représentation\n",
    "\n",
    "*Effectuer un prétraitement des données pour supprimer les duplications et corriger les\n",
    "incohérences s’il y en a.*"
   ]
  },
  {
   "cell_type": "markdown",
   "metadata": {},
   "source": [
    "### Table `journal`\n",
    "\n",
    "On pourrait supposer que les ISSN permettent de définir une revue de façon unique, cependant, il existe de nombreuses\n",
    "lignes dupliquées qui possèdent exactement les mêmes informations hormis leur ISSN. Il nous faut donc trouver un \n",
    "sous-ensemble de colonne qui nous permettrons de définir des duplicatas. \n",
    "\n",
    "Une deuxième hypothèse que nous pouvons faire est qu'un journal est représenté par son nom et qu'il est peu probable que\n",
    "deux journaux différents possède le même nom. Nous allons donc considérer que deux lignes possédant le même nom de\n",
    "journal sont des duplicatas. Pour différencier deux deuplicatas nous allons ensuite calculer un poids correspondant au\n",
    "nombre de valeur non manquantes + 5 si la colonne `category` est non manquante. Ce choix de privilégier la colonne\n",
    "`category` est fait de façon à privilégier les lignes avec cette colonne car elle sera importante pour les prédictions\n",
    "des questions suivantes."
   ]
  },
  {
   "cell_type": "code",
   "execution_count": null,
   "metadata": {},
   "outputs": [],
   "source": [
    "# Clean string columns\n",
    "journal[\"issn\"] = journal[\"issn\"].str.strip()\n",
    "journal[\"journal_name\"] = journal[\"journal_name\"].str.strip()\n",
    "journal[\"pub_name\"] = journal[\"pub_name\"].str.strip()\n",
    "journal[\"category\"] = journal[\"category\"].str.strip().str.lower()\n",
    "journal[\"url\"] = journal[\"url\"].str.strip()\n",
    "\n",
    "# remove duplicated values\n",
    "not_na_count = journal.notnull().sum(axis=1)\n",
    "row_to_keep = not_na_count.mask(journal[\"category\"].notna(), not_na_count+5).groupby(journal[\"journal_name\"]).idxmax()\n",
    "journal = journal.loc[row_to_keep]\n",
    "\n",
    "print(f\"Nombre de lignes condérées comme dupliquées supprimées : {not_na_count.shape[0] - row_to_keep.shape[0]}\")\n",
    "\n",
    "# Replace inconsistant seperators by one so that we can seperate the values easily later\n",
    "journal[\"category\"] = journal[\"category\"].str.replace(r\"\\s*([|.,&]|and)\\s*\", '|', regex=True)"
   ]
  },
  {
   "cell_type": "markdown",
   "metadata": {},
   "source": [
    "### Table `price`\n",
    "\n",
    "Cette table étant une liste horodatée de prix pour un journal, nous pouvons donc utiliser le couple des colonnes \n",
    "`date_stamp` et `journal_id` pour chercher les duplicatas."
   ]
  },
  {
   "cell_type": "code",
   "execution_count": null,
   "metadata": {},
   "outputs": [],
   "source": [
    "# Clean string columns\n",
    "price[\"journal_id\"] = price[\"journal_id\"].str.strip()\n",
    "price[\"url\"] = price[\"url\"].str.strip()\n",
    "\n",
    "# Check duplicates\n",
    "price[price.duplicated(subset=[\"date_stamp\", \"journal_id\"]) & ~price.duplicated(subset=[\"date_stamp\", \"journal_id\", \"price\"])]"
   ]
  },
  {
   "cell_type": "markdown",
   "metadata": {},
   "source": [
    "Seul un article possède un prix différent pour la même date (id `13073` et `16473`). En visitant le [site de la revue](https://jpl.letras.ulisboa.pt/about/submissions/)\n",
    "on peut trouver la mention de publiction fee de £330. On peut donc considérer la deuxième ligne avec un prix affiché de\n",
    "$387.15 comme étant la bonne ligne."
   ]
  },
  {
   "cell_type": "code",
   "execution_count": null,
   "metadata": {},
   "outputs": [],
   "source": [
    "# Delete the wrong article found\n",
    "price.drop(13073, inplace=True)\n",
    "\n",
    "# Delete the other duplicates\n",
    "price.drop_duplicates(subset=[\"date_stamp\", \"journal_id\"], inplace=True)"
   ]
  },
  {
   "cell_type": "markdown",
   "metadata": {},
   "source": [
    "Nous avions aussi trouvé une URL incohérente lors de la question 1 et l'avons déjà supprimé à ce moment là.\n",
    "\n",
    "De plus, nous avions aussi trouvé de très nombreuses valeurs incohérentes dans la colonne `influence_id`. Par conséquent,\n",
    "nous allons la supprimer. "
   ]
  },
  {
   "cell_type": "code",
   "execution_count": null,
   "metadata": {},
   "outputs": [],
   "source": [
    "price.drop(\"influence_id\", axis=1, inplace=True)"
   ]
  },
  {
   "cell_type": "markdown",
   "metadata": {},
   "source": [
    "### Table `influence`\n",
    "\n",
    "Pour cette table, à l'instar de `journal`, nous ne pouvons pas nous baser sur la colonne ISSN car plusieurs lignes sont\n",
    "identiques si on exclu la vérification de l'ISSN."
   ]
  },
  {
   "cell_type": "code",
   "execution_count": null,
   "metadata": {},
   "outputs": [],
   "source": [
    "# clean string columns\n",
    "influence[\"journal_name\"] = influence[\"journal_name\"].str.strip()\n",
    "influence[\"issn\"] = influence[\"issn\"].str.strip()\n",
    "\n",
    "# drop duplicates\n",
    "influence.drop_duplicates(subset=influence.drop(\"issn\", axis=1).columns, inplace=True)"
   ]
  },
  {
   "cell_type": "markdown",
   "metadata": {},
   "source": [
    "Finalement, la colonne `url` étant entièrement vide, il nous semble inutile de la garder. De plus, la colonne\n",
    "`proj_ai_year` ne possède qu'une seule valeur non nulle, il nous semble donc peu utile de la garder aussi."
   ]
  },
  {
   "cell_type": "code",
   "execution_count": null,
   "metadata": {},
   "outputs": [],
   "source": [
    "influence.drop(\"proj_ai_year\", axis=1, inplace=True)"
   ]
  },
  {
   "cell_type": "markdown",
   "metadata": {},
   "source": [
    "*Y a t il une corrélation entre les catégories de journaux (attribut « category ») et les\n",
    "coûts de publication (attribut « price ») ? Justifier la réponse.*"
   ]
  },
  {
   "cell_type": "markdown",
   "metadata": {},
   "source": [
    "Afin d'obtenir une corrélation plus précise nous pouvons essayer de ne garder qu'une ligne pour chaque journal. Ce\n",
    "faisant nous gardons les prix les plus récent afin d'obtenir des statistiques plus à jour."
   ]
  },
  {
   "cell_type": "code",
   "execution_count": null,
   "metadata": {},
   "outputs": [],
   "source": [
    "# merge tables with the desired columns\n",
    "merge = journal.merge(price, left_on=\"issn\", right_on=\"journal_id\")\n",
    "\n",
    "# sort by date stamp\n",
    "merge.sort_values(by=[\"date_stamp\"], ascending=False, inplace=True)\n",
    "\n",
    "# only keep the first line of the duplicated journal name\n",
    "merge.drop_duplicates(subset=[\"journal_name\"], keep=\"first\", inplace=True)\n",
    "\n",
    "# drop unwanted columns\n",
    "merge.drop(merge.drop([\"category\", \"price\"], axis=1).columns, axis=1, inplace=True)\n",
    "\n",
    "# drop row where either the price or the category is missing\n",
    "merge.dropna(inplace=True)\n",
    "\n",
    "merge = pd.concat([merge, merge[\"category\"].str.get_dummies()], axis=1)\n",
    "\n",
    "correlations = []\n",
    "for col in merge.drop([\"category\", \"price\"], axis=1).columns:\n",
    "    group = merge[merge[col] == 1]\n",
    "    if group.shape[0] >= 10:    # filter out the category with not much data\n",
    "        correlations.append([col, group[\"price\"].values])\n",
    "\n",
    "# sort by prices' mean and extract values to list of cols and list of values\n",
    "correlations = list(zip(*sorted(correlations, key=lambda corr: corr[1].mean(), reverse=True)))\n",
    "\n",
    "sns.barplot(data=correlations[1])\n",
    "plt.xticks(plt.xticks()[0], labels=correlations[0], rotation=55, ha=\"right\")\n",
    "plt.show()"
   ]
  },
  {
   "cell_type": "markdown",
   "metadata": {},
   "source": [
    "Comme nous pouvons le voir sur le graphique ci-dessus, il semble que les catégories avec les prix les plus élevés soient\n",
    "semble être lié aux différentes catégories des sciences (médecine, biologie, phisique, chimie...). A contrario, il\n",
    "semble que les catégories avec les plus faibles prix soit tournent autours des arts, de la politique, de la litérature,\n",
    "de l'histoire...\n",
    "\n",
    "En résumé, nous pouvons dire que dans le cadre de nos données il existe une corrélation entre les colonnes `price` et\n",
    "`category`."
   ]
  },
  {
   "cell_type": "markdown",
   "metadata": {},
   "source": [
    "*Construire un modèle pour prédire les valeurs de catégorie de journaux manquantes de\n",
    "la façon la plus précise possible (cela inclut la sélection d’attributs informatifs, le\n",
    "choix et le paramétrage d’un modèle de classification, le calcul du score du modèle,\n",
    "l’application du modèle pour prédire les catégories manquantes). Justifier les choix\n",
    "effectués.*"
   ]
  },
  {
   "cell_type": "markdown",
   "metadata": {},
   "source": [
    "Pour prédire les valeurs des catégories nous allons utiliser les différentes statistiques présentes dans `influence` et\n",
    "les prix présents dans `price`. Nous n'utiliserons cependant pas les données de `date_stamp` et de `is_hybrid` car ses\n",
    "données ont plus un lien avec le prix qu'avec les catégories. Nous allons aussi calculer la distance entre les\n",
    "catégories et les deux premières colonnes de `journal` (`journal_name` et `pub_name`). Pour cette distance, nous allons\n",
    "calculer la longueur de la sous-chaine commune la plus longue et la diviser par la taille de la catégorie afin d'obtenir\n",
    "un \"pourcentage de ressemblance\".\n",
    "\n",
    "Pour le modèle, nous allons utiliser un `MultiOutputClassifier` (pour pouvoir prédire plusieurs catégories à un journal)\n",
    "avec un `RandomForestClassifier` (pour bénéficier de la capacité des arbres décisionnels et de leur simplicité). Enfin,\n",
    "pour les hyper-paramètres, nous allons utiliser un `GridSearchCV`."
   ]
  },
  {
   "cell_type": "code",
   "execution_count": null,
   "metadata": {},
   "outputs": [],
   "source": [
    "# merge all data frames\n",
    "merge = journal.merge(price, left_on=\"issn\", right_on=\"journal_id\").merge(influence, on=\"issn\")\n",
    "merge.rename(columns={\"journal_name_x\": \"journal_name\"}, inplace=True)\n",
    "\n",
    "# drop unwanted columns\n",
    "desired_cols = [\"journal_name\", \"pub_name\", \"price\", \"citation_count_sum\", \"paper_count_sum\", \"avg_cites_per_paper\",\n",
    "                \"proj_ai\", \"category\"]\n",
    "cat_model_data = merge.drop(merge.drop(desired_cols, axis=1).columns, axis=1)\n",
    "\n",
    "# drop lines missing data used for prediction\n",
    "desired_cols.remove(\"category\") # we want to predict the missing categories at the end\n",
    "cat_model_data.dropna(subset=desired_cols, inplace=True)\n",
    "\n",
    "# compute training data targets\n",
    "train_mask = cat_model_data[\"category\"].notna()\n",
    "cat_targets = cat_model_data[train_mask][\"category\"].str.get_dummies(sep='|')\n",
    "cat_model_data.drop(\"category\", axis=1, inplace=True)\n",
    "\n",
    "# lower journal_name strings to make the string distance ignore cases\n",
    "cat_model_data[\"journal_name\"] = cat_model_data[\"journal_name\"].str.lower()\n",
    "\n",
    "# define the distance between a string (journal_name or pub_name) and a category\n",
    "def category_dist(row, base_col, category):\n",
    "    name = row[base_col]\n",
    "    if name is np.NaN:\n",
    "        return 0\n",
    "    len_match = SequenceMatcher(a=name, b=category).find_longest_match(0, len(name), 0, len(category)).size\n",
    "    return len_match / len(category)\n",
    "\n",
    "# compute the journal_name and pub_name distances with the categories for the data\n",
    "apply_category_dist = lambda df, base, cat: df.apply(category_dist, axis=1, base_col=base, category=cat)\n",
    "for category in tqdm(cat_targets.columns, desc=\"Computing distances between (journal_name, pub_name) and the categories\"):\n",
    "    cat_model_data[f\"journal_name_to_{category}_dist\"] = apply_category_dist(cat_model_data, \"journal_name\", category)\n",
    "    cat_model_data[f\"pub_name_to_{category}_dist\"] = apply_category_dist(cat_model_data, \"pub_name\", category)\n",
    "\n",
    "# drop string columns\n",
    "cat_model_data.drop([\"journal_name\", \"pub_name\"], axis=1, inplace=True)"
   ]
  },
  {
   "cell_type": "code",
   "execution_count": null,
   "metadata": {},
   "outputs": [],
   "source": [
    "# define the hyper-parameter's grid search\n",
    "param_grid = {\n",
    "    \"estimator__max_depth\" : np.linspace(13, 15, 3, dtype=int),\n",
    "    \"estimator__n_estimators\" : np.linspace(100, 200, 3, dtype=int)\n",
    "}\n",
    "\n",
    "# Create the model\n",
    "rfc = RandomForestClassifier(n_jobs=-1)\n",
    "moc = MultiOutputClassifier(rfc, n_jobs=-1)\n",
    "cat_model = GridSearchCV(moc, cv=2, param_grid=param_grid, n_jobs=-1, verbose=1)\n",
    "\n",
    "# Train model\n",
    "X_train, X_test, y_train, y_test = train_test_split(cat_model_data[train_mask], cat_targets, test_size=0.2)\n",
    "cat_model.fit(X_train, y_train)\n",
    "print(f\"Train accuracy : {cat_model.score(X_train, y_train):.2%}\")\n",
    "print(f\"Test  accuracy : {cat_model.score(X_test, y_test):.2%}\")\n",
    "print(f\"Best params : {cat_model.best_params_}\")"
   ]
  },
  {
   "cell_type": "code",
   "execution_count": null,
   "metadata": {},
   "outputs": [],
   "source": [
    "# Predict missing categories\n",
    "predicted_cat = pd.DataFrame(cat_model.predict(cat_model_data), index=cat_model_data.index)\n",
    "\n",
    "# show stats about predicted data\n",
    "sns.barplot(x=cat_targets.columns, y=predicted_cat.sum(axis=0))\n",
    "plt.xticks(rotation=90)\n",
    "plt.show()\n",
    "\n",
    "# replace line where the category in know by its representation in one hot\n",
    "predicted_cat.mask(train_mask, cat_targets, inplace=True, axis=0)\n",
    "\n",
    "# add the resulting data to the merge data\n",
    "predicted_cat.reindex(merge.index)\n",
    "predicted_cat.fillna(0.)    # these are the categories we could not predict because of missing data\n",
    "merge = pd.concat([merge, predicted_cat], axis=1)"
   ]
  },
  {
   "cell_type": "markdown",
   "metadata": {},
   "source": [
    "Comme on peut le voir sur le graphique la répartition des catégories prédites n'est pas consistante. On remarque en\n",
    "particulier `medecine` qui est bien plus prédite que le reste et certaines catégorie ne semble pas être prédites une\n",
    "seule fois. Malgré cela, le modèle obtient quand même un bon score de généralisation / de test. "
   ]
  },
  {
   "cell_type": "markdown",
   "metadata": {},
   "source": [
    "## Question 3 : Régression-Clustering\n",
    "\n",
    "*Supprimer tous les attributs ayant plus de 50% de données manquantes.*"
   ]
  },
  {
   "cell_type": "code",
   "execution_count": null,
   "metadata": {},
   "outputs": [],
   "source": [
    "def drop_empty_columns(df, threshold=0.5):\n",
    "    df.drop(df.columns[(df.isna().sum() / df.shape[0]) > threshold], axis=1, inplace=True)\n",
    "\n",
    "for df in [journal, price, influence]:\n",
    "    drop_empty_columns(df)"
   ]
  },
  {
   "cell_type": "markdown",
   "metadata": {},
   "source": [
    "*Construire un modèle pour prédire le coût actuel de publication (attribut « price ») à\n",
    "partir des autres attributs (cela inclut la sélection d’attributs informatifs, le choix et le\n",
    "paramétrage d’un modèle de régression, le calcul du score du modèle, l’application du\n",
    "modèle pour prédire les coûts). Justifier les choix effectués.\n",
    "Lister les 10 revues qui s’écartent le plus (en + ou -) de la valeur prédite.*"
   ]
  },
  {
   "cell_type": "markdown",
   "metadata": {},
   "source": [
    "Pour calculer les coûts actuels de publication, nous allons encore une fois utiliser les différents attributs de la\n",
    "table `influence` et de `price`. À cela, nous allons aussi utiliser les catégories présentent dans `category` que nous\n",
    "complèteront avec le modèle précédemment entrainé.\n",
    "\n",
    "Pour le modèle de regression, nous allons cette fois-ci utiliser un `RandomForestRegressor` avec un `GridSearchCV` pour\n",
    "la recherche des hyper-paramètres."
   ]
  },
  {
   "cell_type": "code",
   "execution_count": null,
   "metadata": {},
   "outputs": [],
   "source": [
    "# drop unwanted columns\n",
    "desired_cols = [\"citation_count_sum\", \"paper_count_sum\", \"avg_cites_per_paper\", \"proj_ai\", \"is_hybrid\", \"price\",\n",
    "                \"date_stamp\"] + list(range(predicted_cat.shape[1])) # the one hots of the categories\n",
    "price_model_data = merge.drop(merge.drop(desired_cols, axis=1).columns, axis=1)\n",
    "\n",
    "# only keep the year for the date stamp\n",
    "price_model_data[\"date_stamp\"] = price_model_data[\"date_stamp\"].apply(lambda date: date.year)\n",
    "\n",
    "# drop lines missing data used for prediction\n",
    "price_model_data.dropna(subset=desired_cols, inplace=True)\n",
    "\n",
    "# compute training data targets\n",
    "price_targets = price_model_data[\"price\"]\n",
    "price_model_data.drop(\"price\", axis=1, inplace=True)"
   ]
  },
  {
   "cell_type": "code",
   "execution_count": null,
   "metadata": {},
   "outputs": [],
   "source": [
    "# define the hyper-parameter's grid search\n",
    "param_grid = {\n",
    "    \"max_depth\" : np.linspace(13, 17, 5, dtype=int),\n",
    "    \"n_estimators\" : np.linspace(100, 200, 11, dtype=int)\n",
    "}\n",
    "\n",
    "# Create the model\n",
    "rfr = RandomForestRegressor(n_jobs=-1)\n",
    "price_model = GridSearchCV(rfr, cv=2, param_grid=param_grid, n_jobs=-1, verbose=1)\n",
    "\n",
    "# Train model\n",
    "X_train, X_test, y_train, y_test = train_test_split(price_model_data, price_targets, test_size=0.2)\n",
    "price_model.fit(X_train, y_train)\n",
    "print(f\"Train accuracy : {price_model.score(X_train, y_train):.2%}\")\n",
    "print(f\"Test  accuracy : {price_model.score(X_test, y_test):.2%}\")\n",
    "print(f\"Best params : {price_model.best_params_}\")"
   ]
  },
  {
   "cell_type": "code",
   "execution_count": null,
   "metadata": {},
   "outputs": [],
   "source": [
    "# Compute the absolute price difference\n",
    "predicted_price = price_model.predict(price_model_data)\n",
    "predicted_price -= price_targets\n",
    "predicted_price = np.abs(predicted_price)\n",
    "predicted_price = pd.Series(predicted_price, index=price_model_data.index).sort_values(ascending=False)\n",
    "\n",
    "# plot the first ten worst predictions\n",
    "sns.barplot(x=merge[\"journal_name\"][predicted_price[:10].index], y=predicted_price[:10])\n",
    "plt.xticks(rotation=25, ha=\"right\")\n",
    "plt.show()"
   ]
  },
  {
   "cell_type": "markdown",
   "metadata": {},
   "source": [
    "Comme nous pouvons le constater sur le graphique ci-dessus, les 10 plus grandes erreurs de prédictions sont comprises\n",
    "entre 2000 et 3000 en moyenne. Si on observe les données, nous pouvons nous rendre compte que les premières erreurs sont\n",
    "souvent dû à des prédiction non nulle pour des journaux avec des prix nulle et inversement. Nous pouvons donc conclure\n",
    "que notre modèle est suffisement précis pour prédir le prix moyen des journaux mais n'est pas encore capable\n",
    "d'identifier des *outliers* qui proposent des prix bien différents des autres."
   ]
  },
  {
   "cell_type": "markdown",
   "metadata": {},
   "source": [
    "*Construire un modèle pour grouper les revues suivant le coût actuel de publication\n",
    "(attribut « price ») et le score d’influence (attribut « proj_ai ») (cela inclut la\n",
    "détermination du nombre de clusters, le choix et le paramétrage d’un modèle de\n",
    "clustering, l’application du modèle pour trouver les clusters). Justifier les choix\n",
    "effectués.*"
   ]
  },
  {
   "cell_type": "code",
   "execution_count": null,
   "metadata": {},
   "outputs": [],
   "source": [
    "clustering_data = merge[[\"proj_ai\", \"price\"]].dropna()\n",
    "sns.scatterplot(x=clustering_data[\"proj_ai\"], y=clustering_data[\"price\"])"
   ]
  },
  {
   "cell_type": "markdown",
   "metadata": {},
   "source": [
    "D'après le graphique, il semble exister un grand cluster de journaux avec des prix compris entre 0 et 3000 et avec un\n",
    "score d'influence entre 0 et 2. A coté de ce cluster, nous pouvons observer de nombreux points plus ou moins isolés qui\n",
    "pourrait être considérés comme des *outliers*.\n",
    "\n",
    "Cette disposition des points semble indiquer que l'approche par K-means pourrait avoir comme résultat de diviser le\n",
    "grand cluster et de regrouper les outliers avec les sous-clusters du grand cluster. Par conséquent, nous allons donc\n",
    "nous interessé aux approches basé sur la densité. Nous allons aussi centrer et réduire les données."
   ]
  },
  {
   "cell_type": "code",
   "execution_count": null,
   "metadata": {},
   "outputs": [],
   "source": [
    "# Center and reduce data\n",
    "clustering_model_data = StandardScaler().fit_transform(clustering_data)\n",
    "\n",
    "# Create the models\n",
    "clustering_models = [\n",
    "    KMeans(n_clusters=3),\n",
    "    AgglomerativeClustering(n_clusters=4, linkage=\"ward\"),\n",
    "    DBSCAN(eps=0.5, min_samples=5, n_jobs=-1),\n",
    "    GaussianMixture(n_components=3, covariance_type=\"full\")\n",
    "]\n",
    "\n",
    "# Run models, save and show results\n",
    "predicted_clusters = []\n",
    "for model in clustering_models:\n",
    "    clusters = model.fit_predict(clustering_model_data)\n",
    "    predicted_clusters.append(clusters)\n",
    "\n",
    "    palette = sns.color_palette(\"hls\", len(np.unique(clusters)))\n",
    "    graph = sns.scatterplot(x=clustering_data[\"proj_ai\"], y=clustering_data[\"price\"], hue=clusters, palette=palette)\n",
    "    graph.set_title(f\"Clustering by {type(model).__name__}\")\n",
    "    plt.show()"
   ]
  },
  {
   "cell_type": "markdown",
   "metadata": {},
   "source": [
    "Comme nous l'avions prévu, certains clusterings dissocie le grand ensemble de points en différents clusters. Seul\n",
    "`DBSCAN` semble bien identifier un grand cluster, quelques petits clusters et plusieurs *outliers*."
   ]
  },
  {
   "cell_type": "markdown",
   "metadata": {},
   "source": [
    "*Présenter des statistiques descriptives des clusters obtenus, et lister les revues du\n",
    "meilleur cluster en termes de rapport moyen : score d’influence / coût de publication.*"
   ]
  },
  {
   "cell_type": "code",
   "execution_count": null,
   "metadata": {},
   "outputs": [],
   "source": [
    "\n",
    "bestClusterIndex = None\n",
    "bestClusterRatio = 0\n",
    "for i, clusters in enumerate(predicted_clusters):\n",
    "    clustering_data[\"clusters\"] = clusters\n",
    "\n",
    "    print(f\"--- Statistiques du clustering de {type(clustering_models[i]).__name__} ---\")\n",
    "    for clusterId, cluster in clustering_data.groupby([\"clusters\"]):\n",
    "        # skip outliers\n",
    "        if clusterId == -1:\n",
    "            continue\n",
    "\n",
    "        print(f\"\\tCluster {clusterId} :\")\n",
    "        print(cluster[[\"price\", \"proj_ai\"]].describe())\n",
    "\n",
    "        mean_ratio = cluster['proj_ai'].mean() / (cluster['price'].mean() + 1e-3)\n",
    "        print(f\"Rapport moyen : {mean_ratio}\")\n",
    "        if mean_ratio > bestClusterRatio:\n",
    "            bestClusterRatio = mean_ratio\n",
    "            bestClusterIndex = cluster.index\n",
    "\n",
    "        print()\n",
    "    print()\n",
    "\n",
    "# print the best journals according to its ration\n",
    "print(\"Liste des meilleurs journaux selon leur rapport moyen :\")\n",
    "merge.iloc[bestClusterIndex][[\"journal_name\", \"pub_name\"]]\n"
   ]
  }
 ],
 "metadata": {
  "anaconda-cloud": {},
  "kernelspec": {
   "display_name": "Python 3",
   "language": "python",
   "name": "python3"
  },
  "language_info": {
   "codemirror_mode": {
    "name": "ipython",
    "version": 3
   },
   "file_extension": ".py",
   "mimetype": "text/x-python",
   "name": "python",
   "nbconvert_exporter": "python",
   "pygments_lexer": "ipython3",
   "version": "3.6.9"
  }
 },
 "nbformat": 4,
 "nbformat_minor": 1
}
