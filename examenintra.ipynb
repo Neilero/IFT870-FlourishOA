{
 "cells": [
  {
   "cell_type": "markdown",
   "metadata": {},
   "source": [
    "# IFT870 - Examen intratrimestriel\n",
    "\n",
    "Auteur : Aurélien Vauthier (19 126 456)"
   ]
  },
  {
   "cell_type": "code",
   "metadata": {},
   "source": [
    "\n",
    "# import libraries\n",
    "import numpy as np\n",
    "import pandas as pd\n",
    "import re\n",
    "from datetime import datetime\n",
    "from sklearn.preprocessing import OneHotEncoder\n",
    "from tqdm import tqdm\n",
    "\n",
    "# extract data\n",
    "journal = pd.read_csv(\"api_journal11-13-17.csv\", encoding=\"windows-1252\")\n",
    "price = pd.read_csv(\"api_price11-13-17.csv\", index_col=0)\n",
    "influence = pd.read_csv(\"estimated-article-influence-scores-2015.csv\", index_col=0)"
   ],
   "outputs": [],
   "execution_count": null
  },
  {
   "cell_type": "markdown",
   "metadata": {},
   "source": [
    "## Question 1 : Exploration-Description\n",
    "\n",
    "*Présenter une description de chacun des attributs des 3 tables, avec des graphiques\n",
    "pour la visualisation des statistiques descriptives au besoin.*"
   ]
  },
  {
   "cell_type": "code",
   "metadata": {},
   "source": [
    "\n",
    "journal.head()"
   ],
   "outputs": [],
   "execution_count": null
  },
  {
   "cell_type": "markdown",
   "metadata": {},
   "source": [
    "## Question 2 : Prétraitement-Représentation\n",
    "\n",
    "*Effectuer un prétraitement des données pour supprimer les duplications et corriger les\n",
    "incohérences s’il y en a.*"
   ]
  },
  {
   "cell_type": "code",
   "metadata": {},
   "source": [],
   "outputs": [],
   "execution_count": null
  },
  {
   "cell_type": "markdown",
   "metadata": {},
   "source": [
    "*Y a t il une corrélation entre les catégories de journaux (attribut « category ») et les\n",
    "coûts de publication (attribut « price ») ? Justifier la réponse.*"
   ]
  },
  {
   "cell_type": "code",
   "metadata": {},
   "source": [],
   "outputs": [],
   "execution_count": null
  },
  {
   "cell_type": "markdown",
   "metadata": {},
   "source": [
    "*Construire un modèle pour prédire les valeurs de catégorie de journaux manquantes de\n",
    "la façon la plus précise possible (cela inclut la sélection d’attributs informatifs, le\n",
    "choix et le paramétrage d’un modèle de classification, le calcul du score du modèle,\n",
    "l’application du modèle pour prédire les catégories manquantes). Justifier les choix\n",
    "effectués.*"
   ]
  },
  {
   "cell_type": "code",
   "metadata": {},
   "source": [],
   "outputs": [],
   "execution_count": null
  },
  {
   "cell_type": "markdown",
   "metadata": {},
   "source": [
    "## Question 3 : Régression-Clustering\n",
    "\n",
    "*Supprimer tous les attributs ayant plus de 50% de données manquantes.*"
   ]
  },
  {
   "cell_type": "code",
   "metadata": {},
   "source": [],
   "outputs": [],
   "execution_count": null
  },
  {
   "cell_type": "markdown",
   "metadata": {},
   "source": [
    "*Construire un modèle pour prédire le coût actuel de publication (attribut « price ») à\n",
    "partir des autres attributs (cela inclut la sélection d’attributs informatifs, le choix et le\n",
    "paramétrage d’un modèle de régression, le calcul du score du modèle, l’application du\n",
    "modèle pour prédire les coûts). Justifier les choix effectués.\n",
    "Lister les 10 revues qui s’écartent le plus (en + ou -) de la valeur prédite.*"
   ]
  },
  {
   "cell_type": "code",
   "metadata": {},
   "source": [],
   "outputs": [],
   "execution_count": null
  },
  {
   "cell_type": "markdown",
   "metadata": {},
   "source": [
    "*Construire un modèle pour grouper les revues suivant le coût actuel de publication\n",
    "(attribut « price ») et le score d’influence (attribut « proj_ai ») (cela inclut la\n",
    "détermination du nombre de clusters, le choix et le paramétrage d’un modèle de\n",
    "clustering, l’application du modèle pour trouver les clusters). Justifier les choix\n",
    "effectués.*"
   ]
  },
  {
   "cell_type": "code",
   "metadata": {},
   "source": [],
   "outputs": [],
   "execution_count": null
  },
  {
   "cell_type": "markdown",
   "metadata": {},
   "source": [
    "*Présenter des statistiques descriptives des clusters obtenus, et lister les revues du\n",
    "meilleur cluster en termes de rapport moyen : score d’influence / coût de publication.*"
   ]
  },
  {
   "cell_type": "code",
   "metadata": {},
   "source": [
    "\n",
    "\n"
   ],
   "outputs": [],
   "execution_count": null
  }
 ],
 "metadata": {
  "anaconda-cloud": {},
  "kernelspec": {
   "display_name": "Python 3",
   "language": "python",
   "name": "python3"
  },
  "language_info": {
   "codemirror_mode": {
    "name": "ipython",
    "version": 3
   },
   "file_extension": ".py",
   "mimetype": "text/x-python",
   "name": "python",
   "nbconvert_exporter": "python",
   "pygments_lexer": "ipython3",
   "version": "3.6.1"
  },
  "pycharm": {
   "stem_cell": {
    "cell_type": "raw",
    "source": [],
    "metadata": {
     "collapsed": false
    }
   }
  }
 },
 "nbformat": 4,
 "nbformat_minor": 1
}